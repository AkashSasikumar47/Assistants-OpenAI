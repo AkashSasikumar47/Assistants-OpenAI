{
  "nbformat": 4,
  "nbformat_minor": 0,
  "metadata": {
    "colab": {
      "provenance": [],
      "authorship_tag": "ABX9TyNMdk0dBZoaxm8sBTkBN4IJ"
    },
    "kernelspec": {
      "name": "python3",
      "display_name": "Python 3"
    },
    "language_info": {
      "name": "python"
    }
  },
  "cells": [
    {
      "cell_type": "code",
      "source": [
        "import openai\n",
        "print(openai.__version__)"
      ],
      "metadata": {
        "colab": {
          "base_uri": "https://localhost:8080/"
        },
        "id": "-i2r7t7bKr1x",
        "outputId": "bfe9e92e-50e8-4571-f4b3-391c026e38ec"
      },
      "execution_count": 1,
      "outputs": [
        {
          "output_type": "stream",
          "name": "stdout",
          "text": [
            "1.57.4\n"
          ]
        }
      ]
    },
    {
      "cell_type": "code",
      "source": [
        "import openai\n",
        "import time\n",
        "from google.colab import userdata\n",
        "\n",
        "api_key = userdata.get('AssistantGPT')\n",
        "openai.api_key = api_key\n",
        "\n",
        "assistant_id = \"generated_assistant_id\"\n",
        "thread_id = \"generated_thread_id\"\n",
        "\n",
        "def ask_question(thread_id, assistant_id, question):\n",
        "    user_message = openai.beta.threads.messages.create(\n",
        "        thread_id=thread_id,\n",
        "        role=\"user\",\n",
        "        content=question\n",
        "    )\n",
        "\n",
        "    run = openai.beta.threads.runs.create(\n",
        "        thread_id=thread_id,\n",
        "        assistant_id=assistant_id,\n",
        "        instructions=\"Please address the user as Akash.\"\n",
        "    )\n",
        "\n",
        "    while True:\n",
        "        run_status = openai.beta.threads.runs.retrieve(thread_id=thread_id, run_id=run.id)\n",
        "        if run_status.status == \"completed\":\n",
        "            break\n",
        "        time.sleep(2)\n",
        "\n",
        "    messages = openai.beta.threads.messages.list(thread_id=thread_id)\n",
        "\n",
        "    assistant_response = None\n",
        "    for msg in messages.data:\n",
        "        if msg.role == \"assistant\":\n",
        "            assistant_response = msg.content[0].text.value if msg.content else \"No content found.\"\n",
        "            break\n",
        "\n",
        "    if assistant_response:\n",
        "        print(f\"Your Question: {question}\")\n",
        "        print(f\"Assistant Response: {assistant_response}\\n\")\n",
        "    else:\n",
        "        print(\"No assistant response found.\")\n",
        "\n",
        "while True:\n",
        "    question = input(\"Ask your question (or type 'exit' to quit): \")\n",
        "    if question.lower() == \"exit\":\n",
        "        print(\"Session ended.\")\n",
        "        break\n",
        "    ask_question(thread_id, assistant_id, question)"
      ],
      "metadata": {
        "colab": {
          "base_uri": "https://localhost:8080/"
        },
        "id": "BJEGWzNHKzqj",
        "outputId": "429bd9e8-d5aa-4095-d853-101aa52c608a"
      },
      "execution_count": 7,
      "outputs": [
        {
          "output_type": "stream",
          "name": "stdout",
          "text": [
            "Ask your question (or type 'exit' to quit): What is sales and purchase?\n",
            "Your Question: What is sales and purchase?\n",
            "Assistant Response: **Sales** and **purchase** are fundamental concepts in business that refer to the processes of selling goods or services and acquiring them, respectively. Here’s a detailed explanation of each:\n",
            "\n",
            "### Sales\n",
            "\n",
            "**Sales** refers to the process of selling goods or services to customers. It involves various activities aimed at generating revenue for a business. Key aspects of sales include:\n",
            "\n",
            "1. **Definition**: The exchange of goods or services for money or other compensation.\n",
            "\n",
            "2. **Types of Sales**:\n",
            "   - **Retail Sales**: Selling directly to consumers.\n",
            "   - **Wholesale Sales**: Selling in bulk to retailers or other businesses.\n",
            "   - **Online Sales**: Selling products or services through e-commerce platforms.\n",
            "   - **B2B Sales**: Business-to-business sales, where transactions occur between companies.\n",
            "\n",
            "3. **Sales Process**:\n",
            "   - **Lead Generation**: Identifying potential customers.\n",
            "   - **Prospecting**: Engaging with potential customers to gauge interest.\n",
            "   - **Presentation**: Demonstrating the product or service to the customer.\n",
            "   - **Negotiation**: Discussing terms, prices, and conditions.\n",
            "   - **Closing**: Finalizing the sale and completing the transaction.\n",
            "   - **Follow-Up**: Maintaining customer relationships post-sale for future business.\n",
            "\n",
            "4. **Sales Metrics**: Businesses often track sales performance through metrics such as total sales revenue, sales growth, conversion rates, and average transaction value.\n",
            "\n",
            "### Purchase\n",
            "\n",
            "**Purchase** refers to the process of acquiring goods or services from suppliers or vendors. It involves various activities aimed at obtaining the necessary resources for a business. Key aspects of purchasing include:\n",
            "\n",
            "1. **Definition**: The act of buying goods or services for business use or resale.\n",
            "\n",
            "2. **Types of Purchases**:\n",
            "   - **Direct Purchases**: Buying raw materials or products needed for production or resale.\n",
            "   - **Indirect Purchases**: Acquiring goods or services that support business operations but are not directly tied to production (e.g., office supplies, equipment).\n",
            "\n",
            "3. **Purchasing Process**:\n",
            "   - **Needs Identification**: Determining what goods or services are required.\n",
            "   - **Supplier Selection**: Identifying and evaluating potential suppliers.\n",
            "   - **Request for Quotation (RFQ)**: Requesting price quotes from suppliers.\n",
            "   - **Order Placement**: Issuing a purchase order to the selected supplier.\n",
            "   - **Receiving Goods**: Accepting and inspecting the delivered products.\n",
            "   - **Payment Processing**: Completing the payment for the purchased goods or services.\n",
            "\n",
            "4. **Purchasing Metrics**: Businesses often track purchasing performance through metrics such as total purchase cost, supplier performance, and inventory turnover.\n",
            "\n",
            "### Relationship Between Sales and Purchase\n",
            "\n",
            "- **Interconnected Processes**: Sales and purchasing are interconnected; sales generate revenue, while purchases ensure that the business has the necessary inventory to meet customer demand.\n",
            "- **Inventory Management**: Effective management of both sales and purchases is crucial for maintaining optimal inventory levels, minimizing costs, and maximizing profitability.\n",
            "- **ERP Integration**: Many businesses use ERP systems to integrate sales and purchasing processes, allowing for better visibility, tracking, and management of inventory and financials.\n",
            "\n",
            "In summary, sales and purchase are essential functions in any business, driving revenue generation and resource acquisition, respectively. Effective management of both processes is vital for operational success and profitability.\n",
            "\n",
            "Ask your question (or type 'exit' to quit): exit\n",
            "Session ended.\n"
          ]
        }
      ]
    }
  ]
}